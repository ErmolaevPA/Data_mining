{
 "cells": [
  {
   "cell_type": "markdown",
   "metadata": {},
   "source": [
    "**Общая информация**\n",
    "\n",
    "**Срок сдачи:** 18 октября 2017, 06:00 <br\\>\n",
    "**Штраф за опоздание:** -2 балла после 06:00 18 октября, -4 балла после 06:00 25 октября, -6 баллов после 06:00 1 ноября\n",
    "\n",
    "При отправлении ДЗ указывайте фамилию в названии файла\n",
    "Присылать ДЗ необходимо в виде ссылки на свой github репозиторий в slack @alkhamush\n",
    "\n",
    "Необходимо в slack создать таск в приватный чат:\n",
    "/todo Фамилия Имя ссылка на гитхаб @alkhamush\n",
    "Пример:\n",
    "/todo Ксения Стройкова https://github.com/stroykova/spheremailru/stroykova_hw1.ipynb @alkhamush\n",
    "Дополнительно нужно просто скинуть ссылку в slack в личный чат\n",
    "\n",
    "Используйте данный Ipython Notebook при оформлении домашнего задания."
   ]
  },
  {
   "cell_type": "markdown",
   "metadata": {},
   "source": [
    "###### Задание 1 (2 баллов)\n",
    "Реализовать KNN в классе MyKNeighborsClassifier (обязательное условие: точность не ниже sklearn реализации)\n",
    "Разберитесь самостоятельно, какая мера расстояния используется в KNeighborsClassifier дефолтно и реализуйте свой алгоритм именно с этой мерой. Самостоятельно разберитесь, как считается score из KNeighborsClassifier и реализуйте аналог в своём классе. Score не должен уступать значению KNN из sklearn\n",
    "\n",
    "###### Задание 2 (2 балла)\n",
    "Добиться скорости работы на fit,  predict и predict_proba сравнимой со sklearn для iris и mnist\n",
    "Для этого используем numpy\n",
    "\n",
    "###### Задание 3 (2 балла)\n",
    "Для iris найдите такой параметр n_neighbors, при котором выдаётся наилучший score. Нарисуйте график зависимости score от n_neighbors\n",
    "\n",
    "###### Задание 4 (3 балла)\n",
    "Добавить algorithm='kd_tree' в реализацию KNN (использовать KDTree из sklearn.neighbors). Значение n_neighbors нужно взять из задания 3. Добиться скорости работы на fit,  predict и predict_proba сравнимой со sklearn для iris и mnist\n",
    "Для этого используем numpy. Score не должен уступать значению KNN из sklearn\n",
    "\n",
    "###### Задание 5 (1 балла)\n",
    "Описать для чего нужны следующие библиотеки/классы/функции (список будет ниже)\n",
    "\n",
    "**Штрафные баллы:**\n",
    "\n",
    "1. Невыполнение PEP8 -1 балл\n",
    "2. Отсутствие фамилии в имени скрипта (скрипт должен называться по аналогии со stroykova_hw1.ipynb) -1 балл\n",
    "3. Все строчки должны быть выполнены. Нужно, чтобы output команды можно было увидеть уже в git'е. В противном случае -1 балл\n",
    "4. При оформлении ДЗ нужно пользоваться данным файлом в качестве шаблона. Не нужно удалять и видоизменять структуру кода и текст. В противном случае -1 балл\n"
   ]
  },
  {
   "cell_type": "code",
   "execution_count": 1,
   "metadata": {},
   "outputs": [],
   "source": [
    "import numpy as np\n",
    "import matplotlib.pyplot as plt\n",
    "\n",
    "import seaborn as sns\n",
    "from sklearn import datasets\n",
    "from sklearn.base import ClassifierMixin\n",
    "from sklearn.datasets import fetch_mldata\n",
    "from sklearn.neighbors.base import NeighborsBase, KNeighborsMixin, SupervisedIntegerMixin \n",
    "from sklearn.model_selection import train_test_split\n",
    "from sklearn.neighbors import KNeighborsClassifier\n",
    "from sklearn.neighbors.kd_tree import KDTree\n",
    "from sklearn import metrics\n",
    "%load_ext pycodestyle_magic"
   ]
  },
  {
   "cell_type": "code",
   "execution_count": 2,
   "metadata": {},
   "outputs": [],
   "source": [
    "#%%pycodestyle\n",
    "\n",
    "\n",
    "class MyKNeighborsClassifier(NeighborsBase,\n",
    "                             KNeighborsMixin,\n",
    "                             SupervisedIntegerMixin,\n",
    "                             ClassifierMixin):\n",
    "\n",
    "    def __init__(self, n_neighbors, algorithm='brute'):\n",
    "        self.n_neighbors = n_neighbors\n",
    "        self.algorithm = algorithm\n",
    "\n",
    "    def fit(self, X, y):\n",
    "        self.labels = y\n",
    "        self.number_of_classes = len(set(self.labels))\n",
    "        if self.algorithm == 'brute':\n",
    "            self.X = X.astype(float)\n",
    "            self.number_of_classes = len(set(self.labels))\n",
    "        elif self.algorithm == 'kd_tree':\n",
    "            self.tree = KDTree(X.astype(float))\n",
    "\n",
    "    def _get_class_matrix(self, X):\n",
    "        if self.algorithm == 'brute':\n",
    "            v = metrics.pairwise_distances(X.astype(float),\n",
    "                                           self.X)\n",
    "            r = np.argpartition(v, self.n_neighbors)[:, :self.n_neighbors]\n",
    "            u, indices = np.unique(self.labels[r], return_inverse=True)\n",
    "            return np.apply_along_axis(np.bincount, 1,\n",
    "                                       indices.reshape(r.shape),\n",
    "                                       None, np.max(indices) + 1), u\n",
    "        elif self.algorithm == 'kd_tree':\n",
    "            dist, ind = self.tree.query(X, k=self.n_neighbors)\n",
    "            u, indices = np.unique(self.labels[ind], return_inverse=True)\n",
    "            return np.apply_along_axis(np.bincount, 1,\n",
    "                                       indices.reshape(ind.shape),\n",
    "                                       None, np.max(indices) + 1), u\n",
    "\n",
    "    def predict(self, X):\n",
    "        v, u = self._get_class_matrix(X)\n",
    "        return u[np.argmax(v, axis=1)]\n",
    "\n",
    "    def predict_proba(self, X):\n",
    "        v, u = self._get_class_matrix(X)\n",
    "        return v / np.sum(v, axis=1)[:, None]\n",
    "\n",
    "    def score(self, X, y):\n",
    "        return 1 - np.count_nonzero(self.predict(X) - y) / y.shape[0]"
   ]
  },
  {
   "cell_type": "markdown",
   "metadata": {},
   "source": [
    "**IRIS**"
   ]
  },
  {
   "cell_type": "code",
   "execution_count": 3,
   "metadata": {},
   "outputs": [],
   "source": [
    "iris = datasets.load_iris()"
   ]
  },
  {
   "cell_type": "code",
   "execution_count": 4,
   "metadata": {},
   "outputs": [],
   "source": [
    "X_train, X_test, y_train, y_test = train_test_split(iris.data, iris.target, test_size=0.1, stratify=iris.target)"
   ]
  },
  {
   "cell_type": "code",
   "execution_count": 5,
   "metadata": {},
   "outputs": [],
   "source": [
    "clf = KNeighborsClassifier(n_neighbors=2, algorithm='brute')\n",
    "my_clf = MyKNeighborsClassifier(n_neighbors=2, algorithm='brute')"
   ]
  },
  {
   "cell_type": "code",
   "execution_count": 6,
   "metadata": {},
   "outputs": [
    {
     "name": "stdout",
     "output_type": "stream",
     "text": [
      "CPU times: user 983 µs, sys: 153 µs, total: 1.14 ms\n",
      "Wall time: 1.04 ms\n"
     ]
    },
    {
     "data": {
      "text/plain": [
       "KNeighborsClassifier(algorithm='brute', leaf_size=30, metric='minkowski',\n",
       "           metric_params=None, n_jobs=None, n_neighbors=2, p=2,\n",
       "           weights='uniform')"
      ]
     },
     "execution_count": 6,
     "metadata": {},
     "output_type": "execute_result"
    }
   ],
   "source": [
    "%time clf.fit(X_train, y_train)"
   ]
  },
  {
   "cell_type": "code",
   "execution_count": 7,
   "metadata": {},
   "outputs": [
    {
     "name": "stdout",
     "output_type": "stream",
     "text": [
      "CPU times: user 71 µs, sys: 12 µs, total: 83 µs\n",
      "Wall time: 78 µs\n"
     ]
    }
   ],
   "source": [
    "%time my_clf.fit(X_train, y_train)"
   ]
  },
  {
   "cell_type": "code",
   "execution_count": 8,
   "metadata": {},
   "outputs": [
    {
     "name": "stdout",
     "output_type": "stream",
     "text": [
      "CPU times: user 1.99 ms, sys: 927 µs, total: 2.92 ms\n",
      "Wall time: 2.47 ms\n"
     ]
    },
    {
     "data": {
      "text/plain": [
       "array([0, 2, 0, 2, 1, 2, 2, 0, 1, 2, 1, 0, 0, 1, 1])"
      ]
     },
     "execution_count": 8,
     "metadata": {},
     "output_type": "execute_result"
    }
   ],
   "source": [
    "%time clf.predict(X_test)"
   ]
  },
  {
   "cell_type": "code",
   "execution_count": 9,
   "metadata": {},
   "outputs": [
    {
     "name": "stdout",
     "output_type": "stream",
     "text": [
      "CPU times: user 1.76 ms, sys: 1.18 ms, total: 2.94 ms\n",
      "Wall time: 1.87 ms\n"
     ]
    },
    {
     "data": {
      "text/plain": [
       "array([0, 2, 0, 2, 1, 2, 2, 0, 1, 2, 1, 0, 0, 1, 1])"
      ]
     },
     "execution_count": 9,
     "metadata": {},
     "output_type": "execute_result"
    }
   ],
   "source": [
    "%time my_clf.predict(X_test)"
   ]
  },
  {
   "cell_type": "code",
   "execution_count": 10,
   "metadata": {},
   "outputs": [
    {
     "name": "stdout",
     "output_type": "stream",
     "text": [
      "CPU times: user 1.05 ms, sys: 614 µs, total: 1.67 ms\n",
      "Wall time: 1.06 ms\n"
     ]
    },
    {
     "data": {
      "text/plain": [
       "array([[1., 0., 0.],\n",
       "       [0., 0., 1.],\n",
       "       [1., 0., 0.],\n",
       "       [0., 0., 1.],\n",
       "       [0., 1., 0.],\n",
       "       [0., 0., 1.],\n",
       "       [0., 0., 1.],\n",
       "       [1., 0., 0.],\n",
       "       [0., 1., 0.],\n",
       "       [0., 0., 1.],\n",
       "       [0., 1., 0.],\n",
       "       [1., 0., 0.],\n",
       "       [1., 0., 0.],\n",
       "       [0., 1., 0.],\n",
       "       [0., 1., 0.]])"
      ]
     },
     "execution_count": 10,
     "metadata": {},
     "output_type": "execute_result"
    }
   ],
   "source": [
    "%time clf.predict_proba(X_test)"
   ]
  },
  {
   "cell_type": "code",
   "execution_count": 11,
   "metadata": {},
   "outputs": [
    {
     "name": "stdout",
     "output_type": "stream",
     "text": [
      "CPU times: user 1.31 ms, sys: 801 µs, total: 2.11 ms\n",
      "Wall time: 1.42 ms\n"
     ]
    },
    {
     "data": {
      "text/plain": [
       "array([[1., 0., 0.],\n",
       "       [0., 0., 1.],\n",
       "       [1., 0., 0.],\n",
       "       [0., 0., 1.],\n",
       "       [0., 1., 0.],\n",
       "       [0., 0., 1.],\n",
       "       [0., 0., 1.],\n",
       "       [1., 0., 0.],\n",
       "       [0., 1., 0.],\n",
       "       [0., 0., 1.],\n",
       "       [0., 1., 0.],\n",
       "       [1., 0., 0.],\n",
       "       [1., 0., 0.],\n",
       "       [0., 1., 0.],\n",
       "       [0., 1., 0.]])"
      ]
     },
     "execution_count": 11,
     "metadata": {},
     "output_type": "execute_result"
    }
   ],
   "source": [
    "%time my_clf.predict_proba(X_test)"
   ]
  },
  {
   "cell_type": "code",
   "execution_count": 12,
   "metadata": {},
   "outputs": [
    {
     "data": {
      "text/plain": [
       "1.0"
      ]
     },
     "execution_count": 12,
     "metadata": {},
     "output_type": "execute_result"
    }
   ],
   "source": [
    "clf.score(X_test, y_test)"
   ]
  },
  {
   "cell_type": "code",
   "execution_count": 13,
   "metadata": {},
   "outputs": [
    {
     "data": {
      "text/plain": [
       "1.0"
      ]
     },
     "execution_count": 13,
     "metadata": {},
     "output_type": "execute_result"
    }
   ],
   "source": [
    "my_clf.score(X_test, y_test)"
   ]
  },
  {
   "cell_type": "markdown",
   "metadata": {},
   "source": [
    "Задание 3"
   ]
  },
  {
   "cell_type": "code",
   "execution_count": 39,
   "metadata": {},
   "outputs": [
    {
     "name": "stdout",
     "output_type": "stream",
     "text": [
      "best score:  0.9758000000000001\n",
      "best num of neighbors 17\n"
     ]
    },
    {
     "data": {
      "image/png": "[encoded data removed]",
      "text/plain": [
       "<Figure size 432x288 with 1 Axes>"
      ]
     },
     "metadata": {},
     "output_type": "display_data"
    }
   ],
   "source": [
    "#%%pycodestyle\n",
    "res = []\n",
    "for i in range(1, 20):\n",
    "    tmp = []\n",
    "    for j in range(1000):\n",
    "        X_train, X_test, y_train, y_test = \\\n",
    "            train_test_split(iris.data, iris.target,\n",
    "                             test_size=0.1, stratify=iris.target)\n",
    "        my_clf = MyKNeighborsClassifier(n_neighbors=i)\n",
    "        my_clf.fit(X_train, y_train)\n",
    "        tmp.append(my_clf.score(X_test, y_test))\n",
    "    res.append(np.mean(tmp))\n",
    "print('best score: ', max(res))\n",
    "print('best num of neighbors', np.argmax(res) + 1)\n",
    "plt.plot(range(1, 20), res)\n",
    "plt.xlabel('n_neighbors')\n",
    "plt.ylabel('score')\n",
    "plt.show()"
   ]
  },
  {
   "cell_type": "markdown",
   "metadata": {},
   "source": [
    "**MNIST**"
   ]
  },
  {
   "cell_type": "code",
   "execution_count": 15,
   "metadata": {},
   "outputs": [
    {
     "name": "stderr",
     "output_type": "stream",
     "text": [
      "/Users/pavelermolaev/miniconda3/lib/python3.6/site-packages/sklearn/utils/deprecation.py:77: DeprecationWarning: Function fetch_mldata is deprecated; fetch_mldata was deprecated in version 0.20 and will be removed in version 0.22\n",
      "  warnings.warn(msg, category=DeprecationWarning)\n",
      "/Users/pavelermolaev/miniconda3/lib/python3.6/site-packages/sklearn/utils/deprecation.py:77: DeprecationWarning: Function mldata_filename is deprecated; mldata_filename was deprecated in version 0.20 and will be removed in version 0.22\n",
      "  warnings.warn(msg, category=DeprecationWarning)\n"
     ]
    }
   ],
   "source": [
    "#%%pycodestyle\n",
    "import numpy as np\n",
    "import matplotlib.pyplot as plt\n",
    "\n",
    "import seaborn as sns\n",
    "from sklearn import datasets\n",
    "from sklearn.base import ClassifierMixin\n",
    "from sklearn.datasets import fetch_mldata\n",
    "from sklearn.neighbors.base import NeighborsBase, KNeighborsMixin,\\\n",
    "                                    SupervisedIntegerMixin\n",
    "from sklearn.model_selection import train_test_split\n",
    "from sklearn.neighbors import KNeighborsClassifier\n",
    "\n",
    "mnist = fetch_mldata('MNIST original')"
   ]
  },
  {
   "cell_type": "code",
   "execution_count": 16,
   "metadata": {},
   "outputs": [],
   "source": [
    "X_train, X_test, y_train, y_test = train_test_split(mnist.data, mnist.target, test_size=0.01, stratify=mnist.target)"
   ]
  },
  {
   "cell_type": "code",
   "execution_count": 17,
   "metadata": {},
   "outputs": [],
   "source": [
    "clf = KNeighborsClassifier(n_neighbors=2, algorithm='brute')\n",
    "my_clf = MyKNeighborsClassifier(n_neighbors=2, algorithm='brute')"
   ]
  },
  {
   "cell_type": "code",
   "execution_count": 18,
   "metadata": {},
   "outputs": [
    {
     "name": "stdout",
     "output_type": "stream",
     "text": [
      "CPU times: user 10.7 ms, sys: 2.62 ms, total: 13.3 ms\n",
      "Wall time: 12.1 ms\n"
     ]
    },
    {
     "data": {
      "text/plain": [
       "KNeighborsClassifier(algorithm='brute', leaf_size=30, metric='minkowski',\n",
       "           metric_params=None, n_jobs=None, n_neighbors=2, p=2,\n",
       "           weights='uniform')"
      ]
     },
     "execution_count": 18,
     "metadata": {},
     "output_type": "execute_result"
    }
   ],
   "source": [
    "%time clf.fit(X_train, y_train)"
   ]
  },
  {
   "cell_type": "code",
   "execution_count": 19,
   "metadata": {},
   "outputs": [
    {
     "name": "stdout",
     "output_type": "stream",
     "text": [
      "CPU times: user 121 ms, sys: 130 ms, total: 251 ms\n",
      "Wall time: 249 ms\n"
     ]
    }
   ],
   "source": [
    "%time my_clf.fit(X_train, y_train)"
   ]
  },
  {
   "cell_type": "code",
   "execution_count": 20,
   "metadata": {},
   "outputs": [
    {
     "name": "stdout",
     "output_type": "stream",
     "text": [
      "CPU times: user 2.66 s, sys: 480 ms, total: 3.14 s\n",
      "Wall time: 2.23 s\n"
     ]
    },
    {
     "data": {
      "text/plain": [
       "array([0., 0., 8., 3., 0., 0., 1., 2., 6., 3., 0., 3., 0., 2., 4., 4., 4.,\n",
       "       4., 8., 9., 1., 9., 4., 0., 1., 8., 3., 2., 2., 1., 2., 1., 1., 9.,\n",
       "       8., 0., 0., 2., 1., 8., 2., 5., 0., 7., 1., 1., 5., 6., 0., 3., 5.,\n",
       "       7., 3., 2., 3., 2., 3., 4., 0., 8., 9., 1., 8., 7., 5., 0., 2., 9.,\n",
       "       2., 2., 4., 7., 7., 2., 5., 6., 7., 1., 1., 0., 3., 9., 1., 5., 9.,\n",
       "       2., 8., 1., 6., 7., 4., 5., 8., 5., 7., 7., 9., 3., 9., 9., 6., 5.,\n",
       "       6., 1., 2., 2., 1., 7., 7., 3., 4., 2., 6., 7., 0., 2., 0., 0., 8.,\n",
       "       8., 5., 1., 7., 3., 4., 7., 8., 1., 2., 0., 2., 7., 5., 6., 6., 5.,\n",
       "       6., 8., 2., 5., 9., 6., 8., 0., 3., 3., 2., 8., 3., 5., 3., 0., 5.,\n",
       "       6., 9., 7., 8., 7., 5., 3., 0., 1., 7., 4., 7., 4., 7., 7., 1., 7.,\n",
       "       7., 3., 2., 2., 4., 4., 7., 4., 6., 2., 0., 5., 3., 0., 4., 9., 4.,\n",
       "       2., 1., 7., 0., 5., 1., 8., 3., 9., 5., 9., 4., 9., 0., 4., 3., 0.,\n",
       "       1., 3., 2., 3., 5., 2., 4., 8., 4., 8., 0., 8., 9., 1., 2., 4., 6.,\n",
       "       5., 1., 6., 6., 0., 6., 2., 5., 4., 6., 8., 6., 0., 9., 9., 4., 3.,\n",
       "       9., 0., 7., 6., 7., 2., 4., 8., 7., 0., 1., 5., 6., 8., 4., 2., 2.,\n",
       "       6., 4., 1., 2., 0., 6., 5., 7., 9., 5., 7., 1., 4., 7., 1., 8., 8.,\n",
       "       8., 3., 4., 9., 6., 8., 9., 0., 7., 6., 2., 3., 7., 1., 1., 9., 6.,\n",
       "       5., 4., 3., 3., 2., 9., 6., 9., 1., 0., 2., 1., 1., 5., 3., 6., 2.,\n",
       "       6., 0., 6., 3., 8., 3., 1., 7., 1., 3., 9., 6., 4., 1., 2., 2., 6.,\n",
       "       7., 9., 7., 1., 3., 4., 9., 4., 8., 0., 4., 7., 2., 3., 0., 1., 2.,\n",
       "       5., 9., 6., 9., 1., 8., 9., 5., 4., 9., 9., 8., 8., 7., 6., 4., 8.,\n",
       "       7., 3., 0., 0., 4., 5., 9., 7., 7., 5., 5., 0., 9., 3., 0., 2., 1.,\n",
       "       9., 0., 9., 5., 3., 4., 0., 8., 4., 8., 7., 1., 9., 9., 8., 8., 4.,\n",
       "       5., 1., 1., 4., 0., 9., 4., 6., 8., 1., 1., 2., 7., 3., 6., 7., 2.,\n",
       "       2., 3., 8., 1., 7., 1., 5., 5., 8., 0., 6., 6., 6., 1., 7., 2., 1.,\n",
       "       5., 7., 5., 6., 2., 5., 3., 7., 2., 6., 8., 7., 4., 2., 3., 7., 7.,\n",
       "       4., 2., 7., 1., 6., 7., 9., 9., 9., 8., 6., 7., 8., 1., 6., 6., 9.,\n",
       "       5., 8., 7., 7., 3., 0., 3., 4., 5., 5., 1., 1., 8., 6., 6., 4., 4.,\n",
       "       6., 1., 1., 8., 1., 4., 1., 5., 8., 2., 9., 7., 6., 8., 9., 4., 1.,\n",
       "       0., 6., 6., 7., 8., 9., 5., 3., 6., 0., 7., 6., 7., 3., 0., 2., 4.,\n",
       "       2., 0., 9., 5., 1., 3., 2., 9., 1., 8., 9., 3., 2., 2., 0., 5., 6.,\n",
       "       0., 3., 3., 5., 0., 9., 7., 9., 3., 4., 0., 1., 6., 4., 1., 6., 8.,\n",
       "       5., 3., 0., 9., 5., 9., 3., 4., 7., 6., 3., 1., 3., 1., 9., 8., 3.,\n",
       "       7., 8., 1., 3., 1., 0., 3., 2., 6., 3., 2., 5., 5., 1., 1., 0., 0.,\n",
       "       1., 2., 7., 4., 4., 0., 2., 6., 4., 0., 1., 4., 1., 7., 7., 0., 5.,\n",
       "       6., 3., 4., 2., 8., 2., 9., 0., 6., 6., 0., 4., 5., 0., 4., 1., 8.,\n",
       "       0., 2., 1., 4., 4., 4., 7., 1., 3., 3., 6., 6., 8., 7., 8., 3., 6.,\n",
       "       5., 0., 4., 0., 2., 1., 3., 0., 7., 7., 5., 7., 4., 5., 1., 4., 7.,\n",
       "       6., 0., 3., 9., 3., 2., 5., 3., 0., 6., 8., 7., 3., 9., 5., 3., 4.,\n",
       "       7., 4., 6., 6., 5., 2., 8., 0., 3., 1., 4., 2., 1., 9., 3., 5., 3.,\n",
       "       0., 0., 2., 7., 2., 2., 4., 8., 1., 1., 3., 3., 1., 8., 1., 5., 9.,\n",
       "       2., 7., 8.])"
      ]
     },
     "execution_count": 20,
     "metadata": {},
     "output_type": "execute_result"
    }
   ],
   "source": [
    "%time clf.predict(X_test)"
   ]
  },
  {
   "cell_type": "code",
   "execution_count": 21,
   "metadata": {},
   "outputs": [
    {
     "name": "stdout",
     "output_type": "stream",
     "text": [
      "CPU times: user 2.66 s, sys: 355 ms, total: 3.01 s\n",
      "Wall time: 1.95 s\n"
     ]
    },
    {
     "data": {
      "text/plain": [
       "array([0., 0., 8., 3., 0., 0., 1., 2., 6., 3., 0., 3., 0., 2., 4., 4., 4.,\n",
       "       4., 8., 9., 1., 9., 4., 0., 1., 8., 3., 2., 2., 1., 2., 1., 1., 9.,\n",
       "       8., 0., 0., 2., 1., 8., 2., 5., 0., 7., 1., 1., 5., 6., 0., 3., 5.,\n",
       "       7., 3., 2., 3., 2., 3., 4., 0., 8., 9., 1., 8., 7., 5., 0., 2., 9.,\n",
       "       2., 2., 4., 7., 7., 2., 5., 6., 7., 1., 1., 0., 3., 9., 1., 5., 9.,\n",
       "       2., 8., 1., 6., 7., 4., 5., 8., 5., 7., 7., 9., 3., 9., 9., 6., 5.,\n",
       "       6., 1., 2., 2., 1., 7., 7., 3., 4., 2., 6., 7., 0., 2., 0., 0., 8.,\n",
       "       8., 5., 1., 7., 3., 4., 7., 8., 1., 2., 0., 2., 7., 5., 6., 6., 5.,\n",
       "       6., 8., 2., 5., 9., 6., 8., 0., 3., 3., 2., 8., 3., 5., 3., 0., 5.,\n",
       "       6., 9., 7., 8., 7., 5., 3., 0., 1., 7., 4., 7., 4., 7., 7., 1., 7.,\n",
       "       7., 3., 2., 2., 4., 4., 7., 4., 6., 2., 0., 5., 3., 0., 4., 9., 4.,\n",
       "       2., 1., 7., 0., 5., 1., 8., 3., 9., 5., 9., 4., 9., 0., 4., 3., 0.,\n",
       "       1., 3., 2., 3., 5., 2., 4., 8., 4., 8., 0., 8., 9., 1., 2., 4., 6.,\n",
       "       5., 1., 6., 6., 0., 6., 2., 5., 4., 6., 8., 6., 0., 9., 9., 4., 3.,\n",
       "       9., 0., 7., 6., 7., 2., 4., 8., 7., 0., 1., 5., 6., 8., 4., 2., 2.,\n",
       "       6., 4., 1., 2., 0., 6., 5., 7., 9., 5., 7., 1., 4., 7., 1., 8., 8.,\n",
       "       8., 3., 4., 9., 6., 8., 9., 0., 7., 6., 2., 3., 7., 1., 1., 9., 6.,\n",
       "       5., 4., 3., 3., 2., 9., 6., 9., 1., 0., 2., 1., 1., 5., 3., 6., 2.,\n",
       "       6., 0., 6., 3., 8., 3., 1., 7., 1., 3., 9., 6., 4., 1., 2., 2., 6.,\n",
       "       7., 9., 7., 1., 3., 4., 9., 4., 8., 0., 4., 7., 2., 3., 0., 1., 2.,\n",
       "       5., 9., 6., 9., 1., 8., 9., 5., 4., 9., 9., 8., 8., 7., 6., 4., 8.,\n",
       "       7., 3., 0., 0., 4., 5., 9., 7., 7., 5., 5., 0., 9., 3., 0., 2., 1.,\n",
       "       9., 0., 9., 5., 3., 4., 0., 8., 4., 8., 7., 1., 9., 9., 8., 8., 4.,\n",
       "       5., 1., 1., 4., 0., 9., 4., 6., 8., 1., 1., 2., 7., 3., 6., 7., 2.,\n",
       "       2., 3., 8., 1., 7., 1., 5., 5., 8., 0., 6., 6., 6., 1., 7., 2., 1.,\n",
       "       5., 7., 5., 6., 2., 5., 3., 7., 2., 6., 8., 7., 4., 2., 3., 7., 7.,\n",
       "       4., 2., 7., 1., 6., 7., 9., 9., 9., 8., 6., 7., 8., 1., 6., 6., 9.,\n",
       "       5., 8., 7., 7., 3., 0., 3., 4., 5., 5., 1., 1., 8., 6., 6., 4., 4.,\n",
       "       6., 1., 1., 8., 1., 4., 1., 5., 8., 2., 9., 7., 6., 8., 9., 4., 1.,\n",
       "       0., 6., 6., 7., 8., 9., 5., 3., 6., 0., 7., 6., 7., 3., 0., 2., 4.,\n",
       "       2., 0., 9., 5., 1., 3., 2., 9., 1., 8., 9., 3., 2., 2., 0., 5., 6.,\n",
       "       0., 3., 3., 5., 0., 9., 7., 9., 3., 4., 0., 1., 6., 4., 1., 6., 8.,\n",
       "       5., 3., 0., 9., 5., 9., 3., 4., 7., 6., 3., 1., 3., 1., 9., 8., 3.,\n",
       "       7., 8., 1., 3., 1., 0., 3., 2., 6., 3., 2., 5., 5., 1., 1., 0., 0.,\n",
       "       1., 2., 7., 4., 4., 0., 2., 6., 4., 0., 1., 4., 1., 7., 7., 0., 5.,\n",
       "       6., 3., 4., 2., 8., 2., 9., 0., 6., 6., 0., 4., 5., 0., 4., 1., 8.,\n",
       "       0., 2., 1., 4., 4., 4., 7., 1., 3., 3., 6., 6., 8., 7., 8., 3., 6.,\n",
       "       5., 0., 4., 0., 2., 1., 3., 0., 7., 7., 5., 7., 4., 5., 1., 4., 7.,\n",
       "       6., 0., 3., 9., 3., 2., 5., 3., 0., 6., 8., 7., 3., 9., 5., 3., 4.,\n",
       "       7., 4., 6., 6., 5., 2., 8., 0., 3., 1., 4., 2., 1., 9., 3., 5., 3.,\n",
       "       0., 0., 2., 7., 2., 2., 4., 8., 1., 1., 3., 3., 1., 8., 1., 5., 9.,\n",
       "       2., 7., 8.])"
      ]
     },
     "execution_count": 21,
     "metadata": {},
     "output_type": "execute_result"
    }
   ],
   "source": [
    "%time my_clf.predict(X_test)"
   ]
  },
  {
   "cell_type": "code",
   "execution_count": 24,
   "metadata": {},
   "outputs": [
    {
     "name": "stdout",
     "output_type": "stream",
     "text": [
      "CPU times: user 2.6 s, sys: 397 ms, total: 2.99 s\n",
      "Wall time: 1.95 s\n"
     ]
    },
    {
     "data": {
      "text/plain": [
       "array([[1. , 0. , 0. , ..., 0. , 0. , 0. ],\n",
       "       [1. , 0. , 0. , ..., 0. , 0. , 0. ],\n",
       "       [0. , 0. , 0. , ..., 0. , 1. , 0. ],\n",
       "       ...,\n",
       "       [0. , 0. , 1. , ..., 0. , 0. , 0. ],\n",
       "       [0. , 0. , 0. , ..., 0.5, 0. , 0.5],\n",
       "       [0. , 0. , 0. , ..., 0. , 1. , 0. ]])"
      ]
     },
     "execution_count": 24,
     "metadata": {},
     "output_type": "execute_result"
    }
   ],
   "source": [
    "%time clf.predict_proba(X_test)"
   ]
  },
  {
   "cell_type": "code",
   "execution_count": 25,
   "metadata": {},
   "outputs": [
    {
     "name": "stdout",
     "output_type": "stream",
     "text": [
      "CPU times: user 2.51 s, sys: 256 ms, total: 2.76 s\n",
      "Wall time: 1.74 s\n"
     ]
    },
    {
     "data": {
      "text/plain": [
       "array([[1. , 0. , 0. , ..., 0. , 0. , 0. ],\n",
       "       [1. , 0. , 0. , ..., 0. , 0. , 0. ],\n",
       "       [0. , 0. , 0. , ..., 0. , 1. , 0. ],\n",
       "       ...,\n",
       "       [0. , 0. , 1. , ..., 0. , 0. , 0. ],\n",
       "       [0. , 0. , 0. , ..., 0.5, 0. , 0.5],\n",
       "       [0. , 0. , 0. , ..., 0. , 1. , 0. ]])"
      ]
     },
     "execution_count": 25,
     "metadata": {},
     "output_type": "execute_result"
    }
   ],
   "source": [
    "%time my_clf.predict_proba(X_test)"
   ]
  },
  {
   "cell_type": "code",
   "execution_count": 26,
   "metadata": {},
   "outputs": [
    {
     "data": {
      "text/plain": [
       "0.9685714285714285"
      ]
     },
     "execution_count": 26,
     "metadata": {},
     "output_type": "execute_result"
    }
   ],
   "source": [
    "clf.score(X_test, y_test)"
   ]
  },
  {
   "cell_type": "code",
   "execution_count": 27,
   "metadata": {},
   "outputs": [
    {
     "data": {
      "text/plain": [
       "0.9685714285714285"
      ]
     },
     "execution_count": 27,
     "metadata": {},
     "output_type": "execute_result"
    }
   ],
   "source": [
    "my_clf.score(X_test, y_test)"
   ]
  },
  {
   "cell_type": "markdown",
   "metadata": {},
   "source": [
    "Задание 4"
   ]
  },
  {
   "cell_type": "code",
   "execution_count": 40,
   "metadata": {},
   "outputs": [],
   "source": [
    "clf = KNeighborsClassifier(n_neighbors=17, algorithm='kd_tree')\n",
    "my_clf = MyKNeighborsClassifier(n_neighbors=17, algorithm='kd_tree')"
   ]
  },
  {
   "cell_type": "code",
   "execution_count": 41,
   "metadata": {},
   "outputs": [],
   "source": [
    "X_train, X_test, y_train, y_test = train_test_split(mnist.data, mnist.target, test_size=0.01, stratify=mnist.target)"
   ]
  },
  {
   "cell_type": "code",
   "execution_count": 42,
   "metadata": {},
   "outputs": [
    {
     "name": "stdout",
     "output_type": "stream",
     "text": [
      "CPU times: user 26.3 s, sys: 310 ms, total: 26.6 s\n",
      "Wall time: 26.7 s\n"
     ]
    },
    {
     "data": {
      "text/plain": [
       "KNeighborsClassifier(algorithm='kd_tree', leaf_size=30, metric='minkowski',\n",
       "           metric_params=None, n_jobs=None, n_neighbors=17, p=2,\n",
       "           weights='uniform')"
      ]
     },
     "execution_count": 42,
     "metadata": {},
     "output_type": "execute_result"
    }
   ],
   "source": [
    "%time clf.fit(X_train, y_train)"
   ]
  },
  {
   "cell_type": "code",
   "execution_count": 43,
   "metadata": {},
   "outputs": [
    {
     "name": "stdout",
     "output_type": "stream",
     "text": [
      "CPU times: user 24.1 s, sys: 231 ms, total: 24.3 s\n",
      "Wall time: 24.5 s\n"
     ]
    }
   ],
   "source": [
    "%time my_clf.fit(X_train, y_train)"
   ]
  },
  {
   "cell_type": "code",
   "execution_count": 44,
   "metadata": {},
   "outputs": [
    {
     "name": "stdout",
     "output_type": "stream",
     "text": [
      "CPU times: user 57 s, sys: 179 ms, total: 57.2 s\n",
      "Wall time: 57.4 s\n"
     ]
    },
    {
     "data": {
      "text/plain": [
       "array([2., 7., 5., 8., 2., 2., 1., 0., 3., 2., 2., 5., 1., 5., 5., 4., 0.,\n",
       "       2., 6., 5., 3., 5., 2., 5., 1., 7., 6., 4., 1., 4., 4., 3., 6., 0.,\n",
       "       8., 1., 3., 8., 7., 3., 1., 5., 9., 8., 9., 9., 7., 7., 7., 0., 0.,\n",
       "       4., 6., 8., 2., 5., 7., 3., 7., 4., 0., 1., 6., 7., 6., 5., 7., 8.,\n",
       "       2., 4., 5., 5., 3., 3., 9., 5., 5., 8., 9., 2., 7., 8., 1., 9., 8.,\n",
       "       9., 0., 3., 7., 4., 3., 2., 8., 2., 5., 0., 8., 7., 7., 3., 9., 7.,\n",
       "       1., 8., 3., 7., 2., 7., 0., 9., 5., 7., 7., 5., 7., 7., 3., 4., 9.,\n",
       "       7., 3., 9., 4., 6., 9., 3., 0., 8., 1., 2., 9., 9., 7., 2., 5., 2.,\n",
       "       9., 9., 5., 2., 1., 1., 0., 0., 3., 1., 4., 9., 1., 7., 8., 0., 1.,\n",
       "       5., 6., 6., 1., 1., 2., 7., 3., 8., 6., 0., 4., 9., 2., 4., 1., 3.,\n",
       "       7., 3., 4., 7., 2., 4., 7., 8., 1., 1., 9., 0., 3., 1., 1., 3., 4.,\n",
       "       0., 7., 0., 8., 8., 8., 8., 3., 0., 5., 2., 2., 6., 8., 3., 8., 0.,\n",
       "       6., 2., 1., 6., 7., 0., 1., 5., 9., 6., 2., 1., 3., 1., 9., 1., 4.,\n",
       "       6., 0., 9., 3., 0., 1., 1., 3., 2., 4., 7., 1., 6., 5., 0., 7., 6.,\n",
       "       9., 6., 1., 2., 6., 8., 6., 5., 1., 9., 7., 6., 4., 0., 7., 0., 9.,\n",
       "       5., 2., 5., 0., 0., 9., 7., 6., 3., 7., 3., 8., 6., 4., 5., 1., 0.,\n",
       "       1., 2., 7., 7., 3., 4., 0., 8., 4., 5., 6., 3., 2., 1., 9., 2., 3.,\n",
       "       5., 8., 1., 2., 0., 1., 4., 4., 5., 9., 7., 2., 4., 2., 2., 6., 2.,\n",
       "       2., 1., 4., 1., 1., 5., 1., 5., 2., 0., 0., 3., 6., 4., 4., 2., 3.,\n",
       "       5., 2., 7., 5., 1., 6., 8., 8., 3., 4., 5., 0., 0., 1., 0., 7., 9.,\n",
       "       6., 8., 5., 7., 5., 7., 3., 1., 5., 8., 4., 3., 7., 8., 8., 0., 7.,\n",
       "       3., 5., 8., 9., 6., 6., 3., 4., 1., 2., 2., 4., 0., 5., 2., 7., 9.,\n",
       "       0., 9., 7., 9., 5., 6., 9., 9., 0., 8., 5., 0., 4., 3., 2., 1., 6.,\n",
       "       0., 3., 8., 9., 4., 1., 1., 1., 6., 7., 8., 3., 7., 6., 4., 1., 8.,\n",
       "       8., 0., 2., 7., 3., 0., 1., 9., 4., 9., 4., 3., 1., 4., 9., 1., 9.,\n",
       "       0., 5., 2., 1., 0., 2., 7., 6., 7., 3., 9., 6., 9., 1., 8., 7., 0.,\n",
       "       2., 6., 4., 3., 9., 3., 6., 4., 8., 9., 2., 8., 7., 6., 5., 4., 4.,\n",
       "       9., 9., 0., 4., 5., 1., 9., 6., 9., 1., 7., 8., 2., 8., 3., 6., 0.,\n",
       "       6., 1., 2., 4., 1., 6., 1., 8., 6., 1., 4., 1., 4., 9., 2., 1., 1.,\n",
       "       2., 4., 8., 6., 0., 6., 6., 5., 5., 7., 2., 2., 2., 4., 9., 1., 5.,\n",
       "       2., 1., 6., 9., 2., 9., 2., 8., 4., 0., 4., 6., 2., 8., 9., 7., 6.,\n",
       "       8., 0., 1., 6., 4., 4., 0., 2., 9., 6., 9., 4., 3., 4., 0., 9., 0.,\n",
       "       3., 9., 3., 0., 4., 5., 0., 3., 1., 1., 2., 0., 1., 4., 1., 8., 3.,\n",
       "       8., 6., 7., 0., 4., 8., 1., 6., 7., 3., 6., 6., 5., 9., 9., 7., 4.,\n",
       "       1., 5., 0., 7., 2., 5., 0., 9., 2., 8., 7., 3., 4., 8., 4., 2., 5.,\n",
       "       0., 8., 3., 8., 5., 1., 0., 3., 4., 4., 8., 2., 9., 8., 3., 1., 9.,\n",
       "       8., 7., 7., 8., 6., 9., 6., 7., 0., 5., 2., 0., 3., 4., 2., 5., 0.,\n",
       "       7., 6., 0., 1., 5., 4., 5., 0., 0., 8., 7., 3., 9., 1., 5., 7., 3.,\n",
       "       4., 1., 6., 5., 7., 6., 4., 4., 2., 6., 6., 5., 9., 6., 7., 0., 3.,\n",
       "       8., 6., 1., 3., 1., 4., 6., 6., 1., 5., 8., 0., 2., 7., 6., 1., 9.,\n",
       "       9., 5., 7., 3., 6., 9., 5., 9., 2., 8., 1., 8., 1., 3., 3., 7., 6.,\n",
       "       3., 5., 5.])"
      ]
     },
     "execution_count": 44,
     "metadata": {},
     "output_type": "execute_result"
    }
   ],
   "source": [
    "%time clf.predict(X_test)"
   ]
  },
  {
   "cell_type": "code",
   "execution_count": 45,
   "metadata": {},
   "outputs": [
    {
     "name": "stdout",
     "output_type": "stream",
     "text": [
      "CPU times: user 49.8 s, sys: 122 ms, total: 49.9 s\n",
      "Wall time: 50.1 s\n"
     ]
    },
    {
     "data": {
      "text/plain": [
       "array([2., 7., 5., 8., 2., 2., 1., 0., 3., 2., 2., 5., 1., 5., 5., 4., 0.,\n",
       "       2., 6., 5., 3., 5., 2., 5., 1., 7., 6., 4., 1., 4., 4., 3., 6., 0.,\n",
       "       8., 1., 3., 8., 7., 3., 1., 5., 9., 8., 9., 9., 7., 7., 7., 0., 0.,\n",
       "       4., 6., 8., 2., 5., 7., 3., 7., 4., 0., 1., 6., 7., 6., 5., 7., 8.,\n",
       "       2., 4., 5., 5., 3., 3., 9., 5., 5., 8., 9., 2., 7., 8., 1., 9., 8.,\n",
       "       9., 0., 3., 7., 4., 3., 2., 8., 2., 5., 0., 8., 7., 7., 3., 9., 7.,\n",
       "       1., 8., 3., 7., 2., 7., 0., 9., 5., 7., 7., 5., 7., 7., 3., 4., 9.,\n",
       "       7., 3., 9., 4., 6., 9., 3., 0., 8., 1., 2., 9., 9., 7., 2., 5., 2.,\n",
       "       9., 9., 5., 2., 1., 1., 0., 0., 3., 1., 4., 9., 1., 7., 8., 0., 1.,\n",
       "       5., 6., 6., 1., 1., 2., 7., 3., 8., 6., 0., 4., 9., 2., 4., 1., 3.,\n",
       "       7., 3., 4., 7., 2., 4., 7., 8., 1., 1., 9., 0., 3., 1., 1., 3., 4.,\n",
       "       0., 7., 0., 8., 8., 8., 8., 3., 0., 5., 2., 2., 6., 8., 3., 8., 0.,\n",
       "       6., 2., 1., 6., 7., 0., 1., 5., 9., 6., 2., 1., 3., 1., 9., 1., 4.,\n",
       "       6., 0., 9., 3., 0., 1., 1., 3., 2., 4., 7., 1., 6., 5., 0., 7., 6.,\n",
       "       9., 6., 1., 2., 6., 8., 6., 5., 1., 9., 7., 6., 4., 0., 7., 0., 9.,\n",
       "       5., 2., 5., 0., 0., 9., 7., 6., 3., 7., 3., 8., 6., 4., 5., 1., 0.,\n",
       "       1., 2., 7., 7., 3., 4., 0., 8., 4., 5., 6., 3., 2., 1., 9., 2., 3.,\n",
       "       5., 8., 1., 2., 0., 1., 4., 4., 5., 9., 7., 2., 4., 2., 2., 6., 2.,\n",
       "       2., 1., 4., 1., 1., 5., 1., 5., 2., 0., 0., 3., 6., 4., 4., 2., 3.,\n",
       "       5., 2., 7., 5., 1., 6., 8., 8., 3., 4., 5., 0., 0., 1., 0., 7., 9.,\n",
       "       6., 8., 5., 7., 5., 7., 3., 1., 5., 8., 4., 3., 7., 8., 8., 0., 7.,\n",
       "       3., 5., 8., 9., 6., 6., 3., 4., 1., 2., 2., 4., 0., 5., 2., 7., 9.,\n",
       "       0., 9., 7., 9., 5., 6., 9., 9., 0., 8., 5., 0., 4., 3., 2., 1., 6.,\n",
       "       0., 3., 8., 9., 4., 1., 1., 1., 6., 7., 8., 3., 7., 6., 4., 1., 8.,\n",
       "       8., 0., 2., 7., 3., 0., 1., 9., 4., 9., 4., 3., 1., 4., 9., 1., 9.,\n",
       "       0., 5., 2., 1., 0., 2., 7., 6., 7., 3., 9., 6., 9., 1., 8., 7., 0.,\n",
       "       2., 6., 4., 3., 9., 3., 6., 4., 8., 9., 2., 8., 7., 6., 5., 4., 4.,\n",
       "       9., 9., 0., 4., 5., 1., 9., 6., 9., 1., 7., 8., 2., 8., 3., 6., 0.,\n",
       "       6., 1., 2., 4., 1., 6., 1., 8., 6., 1., 4., 1., 4., 9., 2., 1., 1.,\n",
       "       2., 4., 8., 6., 0., 6., 6., 5., 5., 7., 2., 2., 2., 4., 9., 1., 5.,\n",
       "       2., 1., 6., 9., 2., 9., 2., 8., 4., 0., 4., 6., 2., 8., 9., 7., 6.,\n",
       "       8., 0., 1., 6., 4., 4., 0., 2., 9., 6., 9., 4., 3., 4., 0., 9., 0.,\n",
       "       3., 9., 3., 0., 4., 5., 0., 3., 1., 1., 2., 0., 1., 4., 1., 8., 3.,\n",
       "       8., 6., 7., 0., 4., 8., 1., 6., 7., 3., 6., 6., 5., 9., 9., 7., 4.,\n",
       "       1., 5., 0., 7., 2., 5., 0., 9., 2., 8., 7., 3., 4., 8., 4., 2., 5.,\n",
       "       0., 8., 3., 8., 5., 1., 0., 3., 4., 4., 8., 2., 9., 8., 3., 1., 9.,\n",
       "       8., 7., 7., 8., 6., 9., 6., 7., 0., 5., 2., 0., 3., 4., 2., 5., 0.,\n",
       "       7., 6., 0., 1., 5., 4., 5., 0., 0., 8., 7., 3., 9., 1., 5., 7., 3.,\n",
       "       4., 1., 6., 5., 7., 6., 4., 4., 2., 6., 6., 5., 9., 6., 7., 0., 3.,\n",
       "       8., 6., 1., 3., 1., 4., 6., 6., 1., 5., 8., 0., 2., 7., 6., 1., 9.,\n",
       "       9., 5., 7., 3., 6., 9., 5., 9., 2., 8., 1., 8., 1., 3., 3., 7., 6.,\n",
       "       3., 5., 5.])"
      ]
     },
     "execution_count": 45,
     "metadata": {},
     "output_type": "execute_result"
    }
   ],
   "source": [
    "%time my_clf.predict(X_test)"
   ]
  },
  {
   "cell_type": "code",
   "execution_count": 46,
   "metadata": {},
   "outputs": [
    {
     "name": "stdout",
     "output_type": "stream",
     "text": [
      "CPU times: user 57.8 s, sys: 181 ms, total: 58 s\n",
      "Wall time: 58.2 s\n"
     ]
    },
    {
     "data": {
      "text/plain": [
       "array([[0.        , 0.        , 1.        , ..., 0.        , 0.        ,\n",
       "        0.        ],\n",
       "       [0.        , 0.        , 0.        , ..., 0.82352941, 0.        ,\n",
       "        0.17647059],\n",
       "       [0.        , 0.        , 0.        , ..., 0.        , 0.        ,\n",
       "        0.        ],\n",
       "       ...,\n",
       "       [0.        , 0.        , 0.        , ..., 0.        , 0.        ,\n",
       "        0.        ],\n",
       "       [0.        , 0.        , 0.        , ..., 0.        , 0.        ,\n",
       "        0.        ],\n",
       "       [0.        , 0.        , 0.        , ..., 0.        , 0.11764706,\n",
       "        0.23529412]])"
      ]
     },
     "execution_count": 46,
     "metadata": {},
     "output_type": "execute_result"
    }
   ],
   "source": [
    "%time clf.predict_proba(X_test)"
   ]
  },
  {
   "cell_type": "code",
   "execution_count": 47,
   "metadata": {},
   "outputs": [
    {
     "name": "stdout",
     "output_type": "stream",
     "text": [
      "CPU times: user 49.7 s, sys: 79.9 ms, total: 49.8 s\n",
      "Wall time: 49.9 s\n"
     ]
    },
    {
     "data": {
      "text/plain": [
       "array([[0.        , 0.        , 1.        , ..., 0.        , 0.        ,\n",
       "        0.        ],\n",
       "       [0.        , 0.        , 0.        , ..., 0.82352941, 0.        ,\n",
       "        0.17647059],\n",
       "       [0.        , 0.        , 0.        , ..., 0.        , 0.        ,\n",
       "        0.        ],\n",
       "       ...,\n",
       "       [0.        , 0.        , 0.        , ..., 0.        , 0.        ,\n",
       "        0.        ],\n",
       "       [0.        , 0.        , 0.        , ..., 0.        , 0.        ,\n",
       "        0.        ],\n",
       "       [0.        , 0.        , 0.        , ..., 0.        , 0.11764706,\n",
       "        0.23529412]])"
      ]
     },
     "execution_count": 47,
     "metadata": {},
     "output_type": "execute_result"
    }
   ],
   "source": [
    "%time my_clf.predict_proba(X_test)"
   ]
  },
  {
   "cell_type": "code",
   "execution_count": 48,
   "metadata": {},
   "outputs": [
    {
     "data": {
      "text/plain": [
       "0.9585714285714285"
      ]
     },
     "execution_count": 48,
     "metadata": {},
     "output_type": "execute_result"
    }
   ],
   "source": [
    "clf.score(X_test, y_test)"
   ]
  },
  {
   "cell_type": "code",
   "execution_count": 49,
   "metadata": {},
   "outputs": [
    {
     "data": {
      "text/plain": [
       "0.9585714285714286"
      ]
     },
     "execution_count": 49,
     "metadata": {},
     "output_type": "execute_result"
    }
   ],
   "source": [
    "my_clf.score(X_test, y_test)"
   ]
  },
  {
   "cell_type": "markdown",
   "metadata": {},
   "source": [
    "Задание 5"
   ]
  },
  {
   "cell_type": "code",
   "execution_count": 50,
   "metadata": {},
   "outputs": [],
   "source": [
    "# seaborn - надстройка над matplotlib для более красивой отрисовки + некоторые новые возможности отрисовки\n",
    "# matplotlib - бибилотека для рисованияб визуализации данных\n",
    "# train_test_split - разделение датасета на обучающуб и тестовую выборки по некоторым притериям (размер и алгоритм выбора примеров)\n",
    "# Pipelin%load_ext e (from sklearn.pipeline import Pipeline) конструкция для последовательного преобразования данных\n",
    "# StandardScaler (from sklearn.preprocessing import StandardScaler) - приводит распределение к нормальному виду (в параметрах - среднее значение, стандартное отклонение)\n",
    "# ClassifierMixin - стандартный класс  в sklearn для классификатора\n",
    "# NeighborsBase - базовый класс для KNN в sklearn\n",
    "# KNeighborsMixin - базовый класс для поиска ближайших соседей\n",
    "# SupervisedIntegerMixin - базовый класс, содержащий метод fit"
   ]
  },
  {
   "cell_type": "code",
   "execution_count": null,
   "metadata": {},
   "outputs": [],
   "source": []
  }
 ],
 "metadata": {
  "kernelspec": {
   "display_name": "Python 3",
   "language": "python",
   "name": "python3"
  },
  "language_info": {
   "codemirror_mode": {
    "name": "ipython",
    "version": 3
   },
   "file_extension": ".py",
   "mimetype": "text/x-python",
   "name": "python",
   "nbconvert_exporter": "python",
   "pygments_lexer": "ipython3",
   "version": "3.6.4"
  }
 },
 "nbformat": 4,
 "nbformat_minor": 2
}
